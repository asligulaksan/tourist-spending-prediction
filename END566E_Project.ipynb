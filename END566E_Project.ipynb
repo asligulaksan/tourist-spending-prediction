{
 "cells": [
  {
   "cell_type": "markdown",
   "id": "e700cff0",
   "metadata": {},
   "source": [
    "# Importing and preprocessing data"
   ]
  },
  {
   "cell_type": "code",
   "execution_count": 1,
   "id": "0e4a64f2",
   "metadata": {},
   "outputs": [],
   "source": [
    "# Shuffle data & Construct random dataset\n",
    "import pandas as pd\n",
    "import numpy as np\n",
    "from sklearn.utils import shuffle\n",
    "data=pd.read_excel(r\"/Users/asligul/Downloads/london_1.xlsx\")\n",
    "data = shuffle(data)\n",
    "data = data[:int(len(data)*0.2+1)]\n",
    "data.to_excel(\"london_x.xlsx\")"
   ]
  },
  {
   "cell_type": "code",
   "execution_count": 2,
   "id": "a4df5d8b",
   "metadata": {},
   "outputs": [
    {
     "data": {
      "text/html": [
       "<div>\n",
       "<style scoped>\n",
       "    .dataframe tbody tr th:only-of-type {\n",
       "        vertical-align: middle;\n",
       "    }\n",
       "\n",
       "    .dataframe tbody tr th {\n",
       "        vertical-align: top;\n",
       "    }\n",
       "\n",
       "    .dataframe thead th {\n",
       "        text-align: right;\n",
       "    }\n",
       "</style>\n",
       "<table border=\"1\" class=\"dataframe\">\n",
       "  <thead>\n",
       "    <tr style=\"text-align: right;\">\n",
       "      <th></th>\n",
       "      <th>year</th>\n",
       "      <th>quarter</th>\n",
       "      <th>market</th>\n",
       "      <th>mode</th>\n",
       "      <th>purpose</th>\n",
       "      <th>nights_2</th>\n",
       "      <th>visits_2</th>\n",
       "      <th>spend</th>\n",
       "    </tr>\n",
       "  </thead>\n",
       "  <tbody>\n",
       "    <tr>\n",
       "      <th>0</th>\n",
       "      <td>2019</td>\n",
       "      <td>January-March</td>\n",
       "      <td>Belgium</td>\n",
       "      <td>Air</td>\n",
       "      <td>Holiday</td>\n",
       "      <td>3.401</td>\n",
       "      <td>1.133</td>\n",
       "      <td>0.789029</td>\n",
       "    </tr>\n",
       "    <tr>\n",
       "      <th>1</th>\n",
       "      <td>2019</td>\n",
       "      <td>January-March</td>\n",
       "      <td>Belgium</td>\n",
       "      <td>Air</td>\n",
       "      <td>Business</td>\n",
       "      <td>20.442</td>\n",
       "      <td>5.082</td>\n",
       "      <td>1.340236</td>\n",
       "    </tr>\n",
       "    <tr>\n",
       "      <th>2</th>\n",
       "      <td>2019</td>\n",
       "      <td>January-March</td>\n",
       "      <td>Belgium</td>\n",
       "      <td>Air</td>\n",
       "      <td>Miscellaneous</td>\n",
       "      <td>0.612</td>\n",
       "      <td>0.612</td>\n",
       "      <td>0.039774</td>\n",
       "    </tr>\n",
       "    <tr>\n",
       "      <th>3</th>\n",
       "      <td>2019</td>\n",
       "      <td>January-March</td>\n",
       "      <td>Belgium</td>\n",
       "      <td>Sea</td>\n",
       "      <td>Holiday</td>\n",
       "      <td>1.757</td>\n",
       "      <td>1.731</td>\n",
       "      <td>0.895620</td>\n",
       "    </tr>\n",
       "    <tr>\n",
       "      <th>4</th>\n",
       "      <td>2019</td>\n",
       "      <td>January-March</td>\n",
       "      <td>Belgium</td>\n",
       "      <td>Sea</td>\n",
       "      <td>VFR</td>\n",
       "      <td>12.735</td>\n",
       "      <td>5.656</td>\n",
       "      <td>1.126579</td>\n",
       "    </tr>\n",
       "  </tbody>\n",
       "</table>\n",
       "</div>"
      ],
      "text/plain": [
       "   year        quarter   market mode        purpose  nights_2  visits_2  \\\n",
       "0  2019  January-March  Belgium  Air        Holiday     3.401     1.133   \n",
       "1  2019  January-March  Belgium  Air       Business    20.442     5.082   \n",
       "2  2019  January-March  Belgium  Air  Miscellaneous     0.612     0.612   \n",
       "3  2019  January-March  Belgium  Sea        Holiday     1.757     1.731   \n",
       "4  2019  January-March  Belgium  Sea            VFR    12.735     5.656   \n",
       "\n",
       "      spend  \n",
       "0  0.789029  \n",
       "1  1.340236  \n",
       "2  0.039774  \n",
       "3  0.895620  \n",
       "4  1.126579  "
      ]
     },
     "execution_count": 2,
     "metadata": {},
     "output_type": "execute_result"
    }
   ],
   "source": [
    "import pandas as pd\n",
    "import numpy as np\n",
    "import matplotlib.pyplot as plt\n",
    "\n",
    "from sklearn.neighbors import KNeighborsClassifier\n",
    "from sklearn import metrics\n",
    "from sklearn.pipeline import make_pipeline\n",
    "from sklearn.preprocessing import StandardScaler\n",
    "from sklearn.svm import SVC\n",
    "from sklearn import tree\n",
    "from sklearn.model_selection import train_test_split\n",
    "from sklearn import preprocessing\n",
    "from sklearn.model_selection import cross_val_score\n",
    "from sklearn import svm\n",
    "from sklearn.utils import shuffle\n",
    "from sklearn.metrics import confusion_matrix,classification_report, ConfusionMatrixDisplay\n",
    "\n",
    "data=pd.read_excel(r\"/Users/asligul/Downloads/london_1.xlsx\")\n",
    "data.head(5)"
   ]
  },
  {
   "cell_type": "code",
   "execution_count": 3,
   "id": "a6c2a35c",
   "metadata": {},
   "outputs": [],
   "source": [
    "data[['quarter', 'market','mode','purpose']] = data[['quarter', 'market','mode','purpose']].apply(preprocessing.LabelEncoder().fit_transform)"
   ]
  },
  {
   "cell_type": "markdown",
   "id": "8be972bb",
   "metadata": {},
   "source": [
    "# Modify category"
   ]
  },
  {
   "cell_type": "code",
   "execution_count": 4,
   "id": "f34ea7cd",
   "metadata": {},
   "outputs": [],
   "source": [
    "# 3 classes\n",
    "def categorize_expenses(x):\n",
    "\n",
    "    low=0.9\n",
    "    medium=3.8\n",
    "    \n",
    "    if x<low:\n",
    "        return 'low'\n",
    "    elif x<medium:\n",
    "        return 'medium'\n",
    "    else:\n",
    "        return 'high'\n",
    "    \n",
    "data[\"expense_cat\"] = data.spend.apply(categorize_expenses)\n"
   ]
  },
  {
   "cell_type": "code",
   "execution_count": 5,
   "id": "e984faba",
   "metadata": {},
   "outputs": [
    {
     "data": {
      "text/plain": [
       "medium    996\n",
       "high      987\n",
       "low       982\n",
       "Name: expense_cat, dtype: int64"
      ]
     },
     "execution_count": 5,
     "metadata": {},
     "output_type": "execute_result"
    }
   ],
   "source": [
    "data[\"expense_cat\"].value_counts()"
   ]
  },
  {
   "cell_type": "markdown",
   "id": "7b2ad33a",
   "metadata": {},
   "source": [
    "# Train test split"
   ]
  },
  {
   "cell_type": "code",
   "execution_count": 6,
   "id": "fbff9217",
   "metadata": {},
   "outputs": [
    {
     "name": "stdout",
     "output_type": "stream",
     "text": [
      "train size: 2075\n",
      "test size: 890\n"
     ]
    }
   ],
   "source": [
    "X = data[['quarter','mode','purpose',\"market\",\"visits_2\",\"nights_2\"]]\n",
    "\n",
    "# Classification\n",
    "y = data['expense_cat']\n",
    "\n",
    "# Randomize    \n",
    "X_train, X_test, y_train, y_test = train_test_split(X, y, test_size=0.3)\n",
    "\n",
    "print('train size:', len(X_train))\n",
    "print('test size:', len(X_test))\n"
   ]
  },
  {
   "cell_type": "markdown",
   "id": "e629092f",
   "metadata": {},
   "source": [
    "# KNN\n"
   ]
  },
  {
   "cell_type": "code",
   "execution_count": 7,
   "id": "293797a8",
   "metadata": {
    "scrolled": true
   },
   "outputs": [
    {
     "data": {
      "image/png": "[encoded data removed]",
      "text/plain": [
       "<Figure size 432x288 with 1 Axes>"
      ]
     },
     "metadata": {
      "needs_background": "light"
     },
     "output_type": "display_data"
    },
    {
     "name": "stdout",
     "output_type": "stream",
     "text": [
      "max score: 0.6849879716012439\n",
      "k: 74\n"
     ]
    }
   ],
   "source": [
    "# Cross-Validation\n",
    "results = []\n",
    "max_score = 0\n",
    "max_score_index = 0\n",
    "for k in range(3, 100):\n",
    "    knn = KNeighborsClassifier(n_neighbors=k)\n",
    "    \n",
    "    scores = cross_val_score(knn, X, y, cv=3)\n",
    "    score = scores.mean()\n",
    "    \n",
    "    results.append(score)\n",
    "    if score > max_score:\n",
    "        max_score = score\n",
    "        max_score_index = k\n",
    "plt.figure()\n",
    "plt.plot(results)\n",
    "plt.show()\n",
    "\n",
    "knn.fit(X_train, y_train)\n",
    "y_pred = knn.predict(X_test)\n",
    "\n",
    "print('max score:', max_score)\n",
    "print('k:', max_score_index)"
   ]
  },
  {
   "cell_type": "code",
   "execution_count": 8,
   "id": "d78a9a40",
   "metadata": {
    "scrolled": true
   },
   "outputs": [
    {
     "data": {
      "image/png": "[encoded data removed]",
      "text/plain": [
       "<Figure size 432x288 with 2 Axes>"
      ]
     },
     "metadata": {
      "needs_background": "light"
     },
     "output_type": "display_data"
    }
   ],
   "source": [
    "\n",
    "knn.fit(X_train, y_train)\n",
    "y_pred = knn.predict(X_test)\n",
    "\n",
    "cm = confusion_matrix(y_test, y_pred)\n",
    "disp = ConfusionMatrixDisplay(confusion_matrix=cm, display_labels=knn.classes_)\n",
    "disp.plot()\n",
    "plt.show()"
   ]
  },
  {
   "cell_type": "code",
   "execution_count": 9,
   "id": "a932f2bf",
   "metadata": {
    "scrolled": false
   },
   "outputs": [
    {
     "name": "stdout",
     "output_type": "stream",
     "text": [
      "              precision    recall  f1-score   support\n",
      "\n",
      "        high       0.78      0.77      0.78       295\n",
      "         low       0.76      0.70      0.73       300\n",
      "      medium       0.56      0.61      0.59       295\n",
      "\n",
      "    accuracy                           0.70       890\n",
      "   macro avg       0.70      0.70      0.70       890\n",
      "weighted avg       0.70      0.70      0.70       890\n",
      "\n"
     ]
    }
   ],
   "source": [
    "print(classification_report(y_test, y_pred))"
   ]
  },
  {
   "cell_type": "code",
   "execution_count": 10,
   "id": "4b5c9d06",
   "metadata": {
    "scrolled": true
   },
   "outputs": [
    {
     "data": {
      "text/html": [
       "<div>\n",
       "<style scoped>\n",
       "    .dataframe tbody tr th:only-of-type {\n",
       "        vertical-align: middle;\n",
       "    }\n",
       "\n",
       "    .dataframe tbody tr th {\n",
       "        vertical-align: top;\n",
       "    }\n",
       "\n",
       "    .dataframe thead th {\n",
       "        text-align: right;\n",
       "    }\n",
       "</style>\n",
       "<table border=\"1\" class=\"dataframe\">\n",
       "  <thead>\n",
       "    <tr style=\"text-align: right;\">\n",
       "      <th></th>\n",
       "      <th>quarter</th>\n",
       "      <th>mode</th>\n",
       "      <th>purpose</th>\n",
       "      <th>visits_2</th>\n",
       "      <th>nights_2</th>\n",
       "      <th>Actual</th>\n",
       "      <th>Predicted</th>\n",
       "    </tr>\n",
       "  </thead>\n",
       "  <tbody>\n",
       "    <tr>\n",
       "      <th>0</th>\n",
       "      <td>1</td>\n",
       "      <td>1</td>\n",
       "      <td>0</td>\n",
       "      <td>1.649</td>\n",
       "      <td>4.946</td>\n",
       "      <td>low</td>\n",
       "      <td>low</td>\n",
       "    </tr>\n",
       "    <tr>\n",
       "      <th>1</th>\n",
       "      <td>2</td>\n",
       "      <td>0</td>\n",
       "      <td>4</td>\n",
       "      <td>21.329</td>\n",
       "      <td>269.631</td>\n",
       "      <td>high</td>\n",
       "      <td>high</td>\n",
       "    </tr>\n",
       "    <tr>\n",
       "      <th>2</th>\n",
       "      <td>1</td>\n",
       "      <td>1</td>\n",
       "      <td>0</td>\n",
       "      <td>3.297</td>\n",
       "      <td>6.595</td>\n",
       "      <td>low</td>\n",
       "      <td>medium</td>\n",
       "    </tr>\n",
       "    <tr>\n",
       "      <th>3</th>\n",
       "      <td>0</td>\n",
       "      <td>0</td>\n",
       "      <td>4</td>\n",
       "      <td>12.633</td>\n",
       "      <td>30.876</td>\n",
       "      <td>high</td>\n",
       "      <td>high</td>\n",
       "    </tr>\n",
       "    <tr>\n",
       "      <th>4</th>\n",
       "      <td>1</td>\n",
       "      <td>0</td>\n",
       "      <td>1</td>\n",
       "      <td>2.381</td>\n",
       "      <td>14.311</td>\n",
       "      <td>medium</td>\n",
       "      <td>medium</td>\n",
       "    </tr>\n",
       "  </tbody>\n",
       "</table>\n",
       "</div>"
      ],
      "text/plain": [
       "   quarter  mode  purpose  visits_2  nights_2  Actual Predicted\n",
       "0        1     1        0     1.649     4.946     low       low\n",
       "1        2     0        4    21.329   269.631    high      high\n",
       "2        1     1        0     3.297     6.595     low    medium\n",
       "3        0     0        4    12.633    30.876    high      high\n",
       "4        1     0        1     2.381    14.311  medium    medium"
      ]
     },
     "execution_count": 10,
     "metadata": {},
     "output_type": "execute_result"
    }
   ],
   "source": [
    "comp=pd.DataFrame({'Actual':y_test, 'Predicted':y_pred})\n",
    "comp = pd.concat([X_test.reset_index(drop=True), comp.reset_index(drop=True)], axis= 1)\n",
    "comp.head()"
   ]
  },
  {
   "cell_type": "markdown",
   "id": "6ea3da29",
   "metadata": {},
   "source": [
    "# SVM"
   ]
  },
  {
   "cell_type": "code",
   "execution_count": 11,
   "id": "49a8484b",
   "metadata": {},
   "outputs": [
    {
     "name": "stdout",
     "output_type": "stream",
     "text": [
      "0.6627272466770099\n"
     ]
    }
   ],
   "source": [
    "# Cross-Validation\n",
    "clf = svm.SVC(kernel='rbf', C=1)\n",
    "scores = cross_val_score(clf, X, y, cv=3)\n",
    "score = scores.mean()\n",
    "clf.fit(X_train, y_train)\n",
    "y_pred = clf.predict(X_test)\n",
    "print(score)"
   ]
  },
  {
   "cell_type": "code",
   "execution_count": 12,
   "id": "19d61168",
   "metadata": {},
   "outputs": [
    {
     "data": {
      "text/plain": [
       "array([[206,  14,  75],\n",
       "       [  4, 241,  55],\n",
       "       [ 35, 112, 148]])"
      ]
     },
     "execution_count": 12,
     "metadata": {},
     "output_type": "execute_result"
    }
   ],
   "source": [
    "# Cross-Validation - Confussion Matrix\n",
    "confusion_matrix(y_test, y_pred)"
   ]
  },
  {
   "cell_type": "code",
   "execution_count": 13,
   "id": "d893e12e",
   "metadata": {},
   "outputs": [
    {
     "data": {
      "image/png": "[encoded data removed]",
      "text/plain": [
       "<Figure size 432x288 with 2 Axes>"
      ]
     },
     "metadata": {
      "needs_background": "light"
     },
     "output_type": "display_data"
    }
   ],
   "source": [
    "cm = confusion_matrix(y_test, y_pred)\n",
    "disp = ConfusionMatrixDisplay(confusion_matrix=cm, display_labels=clf.classes_)\n",
    "disp.plot()\n",
    "plt.show()"
   ]
  },
  {
   "cell_type": "code",
   "execution_count": 14,
   "id": "13712e6b",
   "metadata": {},
   "outputs": [
    {
     "name": "stdout",
     "output_type": "stream",
     "text": [
      "              precision    recall  f1-score   support\n",
      "\n",
      "        high       0.84      0.70      0.76       295\n",
      "         low       0.66      0.80      0.72       300\n",
      "      medium       0.53      0.50      0.52       295\n",
      "\n",
      "    accuracy                           0.67       890\n",
      "   macro avg       0.68      0.67      0.67       890\n",
      "weighted avg       0.68      0.67      0.67       890\n",
      "\n"
     ]
    }
   ],
   "source": [
    "print(classification_report(y_test, y_pred))"
   ]
  },
  {
   "cell_type": "code",
   "execution_count": 15,
   "id": "41e378a4",
   "metadata": {},
   "outputs": [
    {
     "data": {
      "text/html": [
       "<div>\n",
       "<style scoped>\n",
       "    .dataframe tbody tr th:only-of-type {\n",
       "        vertical-align: middle;\n",
       "    }\n",
       "\n",
       "    .dataframe tbody tr th {\n",
       "        vertical-align: top;\n",
       "    }\n",
       "\n",
       "    .dataframe thead th {\n",
       "        text-align: right;\n",
       "    }\n",
       "</style>\n",
       "<table border=\"1\" class=\"dataframe\">\n",
       "  <thead>\n",
       "    <tr style=\"text-align: right;\">\n",
       "      <th></th>\n",
       "      <th>quarter</th>\n",
       "      <th>mode</th>\n",
       "      <th>purpose</th>\n",
       "      <th>visits_2</th>\n",
       "      <th>nights_2</th>\n",
       "      <th>Actual</th>\n",
       "      <th>Predicted</th>\n",
       "    </tr>\n",
       "  </thead>\n",
       "  <tbody>\n",
       "    <tr>\n",
       "      <th>0</th>\n",
       "      <td>1</td>\n",
       "      <td>1</td>\n",
       "      <td>0</td>\n",
       "      <td>1.649</td>\n",
       "      <td>4.946</td>\n",
       "      <td>low</td>\n",
       "      <td>low</td>\n",
       "    </tr>\n",
       "    <tr>\n",
       "      <th>1</th>\n",
       "      <td>2</td>\n",
       "      <td>0</td>\n",
       "      <td>4</td>\n",
       "      <td>21.329</td>\n",
       "      <td>269.631</td>\n",
       "      <td>high</td>\n",
       "      <td>high</td>\n",
       "    </tr>\n",
       "    <tr>\n",
       "      <th>2</th>\n",
       "      <td>1</td>\n",
       "      <td>1</td>\n",
       "      <td>0</td>\n",
       "      <td>3.297</td>\n",
       "      <td>6.595</td>\n",
       "      <td>low</td>\n",
       "      <td>low</td>\n",
       "    </tr>\n",
       "    <tr>\n",
       "      <th>3</th>\n",
       "      <td>0</td>\n",
       "      <td>0</td>\n",
       "      <td>4</td>\n",
       "      <td>12.633</td>\n",
       "      <td>30.876</td>\n",
       "      <td>high</td>\n",
       "      <td>high</td>\n",
       "    </tr>\n",
       "    <tr>\n",
       "      <th>4</th>\n",
       "      <td>1</td>\n",
       "      <td>0</td>\n",
       "      <td>1</td>\n",
       "      <td>2.381</td>\n",
       "      <td>14.311</td>\n",
       "      <td>medium</td>\n",
       "      <td>medium</td>\n",
       "    </tr>\n",
       "  </tbody>\n",
       "</table>\n",
       "</div>"
      ],
      "text/plain": [
       "   quarter  mode  purpose  visits_2  nights_2  Actual Predicted\n",
       "0        1     1        0     1.649     4.946     low       low\n",
       "1        2     0        4    21.329   269.631    high      high\n",
       "2        1     1        0     3.297     6.595     low       low\n",
       "3        0     0        4    12.633    30.876    high      high\n",
       "4        1     0        1     2.381    14.311  medium    medium"
      ]
     },
     "execution_count": 15,
     "metadata": {},
     "output_type": "execute_result"
    }
   ],
   "source": [
    "comp=pd.DataFrame({'Actual':y_test, 'Predicted':y_pred})\n",
    "comp = pd.concat([X_test.reset_index(drop=True), comp.reset_index(drop=True)], axis= 1)\n",
    "comp.head()"
   ]
  },
  {
   "cell_type": "markdown",
   "id": "9f718592",
   "metadata": {},
   "source": [
    "# Decision Tree"
   ]
  },
  {
   "cell_type": "markdown",
   "id": "54bfd53e",
   "metadata": {},
   "source": [
    "### Cross-Validation"
   ]
  },
  {
   "cell_type": "code",
   "execution_count": 16,
   "id": "ebe0afe7",
   "metadata": {},
   "outputs": [
    {
     "name": "stdout",
     "output_type": "stream",
     "text": [
      "Cross-Validation Accuracy: 0.5912299123011698\n"
     ]
    }
   ],
   "source": [
    "clf = tree.DecisionTreeClassifier()\n",
    "scores = cross_val_score(clf, X, y, cv=3)\n",
    "score = scores.mean()\n",
    "print(\"Cross-Validation Accuracy:\",score)"
   ]
  },
  {
   "cell_type": "code",
   "execution_count": 17,
   "id": "1e46b26e",
   "metadata": {},
   "outputs": [
    {
     "data": {
      "image/png": "[encoded data removed]",
      "text/plain": [
       "<Figure size 432x288 with 2 Axes>"
      ]
     },
     "metadata": {
      "needs_background": "light"
     },
     "output_type": "display_data"
    }
   ],
   "source": [
    "clf.fit(X_train, y_train)\n",
    "y_pred = clf.predict(X_test)\n",
    "cm = confusion_matrix(y_test, y_pred)\n",
    "disp = ConfusionMatrixDisplay(confusion_matrix=cm, display_labels=clf.classes_)\n",
    "disp.plot()\n",
    "plt.show()"
   ]
  },
  {
   "cell_type": "code",
   "execution_count": 18,
   "id": "ae22f419",
   "metadata": {},
   "outputs": [
    {
     "name": "stdout",
     "output_type": "stream",
     "text": [
      "              precision    recall  f1-score   support\n",
      "\n",
      "        high       0.70      0.72      0.71       295\n",
      "         low       0.66      0.58      0.62       300\n",
      "      medium       0.47      0.51      0.49       295\n",
      "\n",
      "    accuracy                           0.60       890\n",
      "   macro avg       0.61      0.60      0.60       890\n",
      "weighted avg       0.61      0.60      0.60       890\n",
      "\n"
     ]
    }
   ],
   "source": [
    "print(classification_report(y_test, y_pred))"
   ]
  },
  {
   "cell_type": "code",
   "execution_count": 19,
   "id": "28b4322d",
   "metadata": {},
   "outputs": [
    {
     "data": {
      "text/html": [
       "<div>\n",
       "<style scoped>\n",
       "    .dataframe tbody tr th:only-of-type {\n",
       "        vertical-align: middle;\n",
       "    }\n",
       "\n",
       "    .dataframe tbody tr th {\n",
       "        vertical-align: top;\n",
       "    }\n",
       "\n",
       "    .dataframe thead th {\n",
       "        text-align: right;\n",
       "    }\n",
       "</style>\n",
       "<table border=\"1\" class=\"dataframe\">\n",
       "  <thead>\n",
       "    <tr style=\"text-align: right;\">\n",
       "      <th></th>\n",
       "      <th>quarter</th>\n",
       "      <th>mode</th>\n",
       "      <th>purpose</th>\n",
       "      <th>visits_2</th>\n",
       "      <th>nights_2</th>\n",
       "      <th>Actual</th>\n",
       "      <th>Predicted</th>\n",
       "    </tr>\n",
       "  </thead>\n",
       "  <tbody>\n",
       "    <tr>\n",
       "      <th>0</th>\n",
       "      <td>1</td>\n",
       "      <td>1</td>\n",
       "      <td>0</td>\n",
       "      <td>1.649</td>\n",
       "      <td>4.946</td>\n",
       "      <td>low</td>\n",
       "      <td>medium</td>\n",
       "    </tr>\n",
       "    <tr>\n",
       "      <th>1</th>\n",
       "      <td>2</td>\n",
       "      <td>0</td>\n",
       "      <td>4</td>\n",
       "      <td>21.329</td>\n",
       "      <td>269.631</td>\n",
       "      <td>high</td>\n",
       "      <td>high</td>\n",
       "    </tr>\n",
       "    <tr>\n",
       "      <th>2</th>\n",
       "      <td>1</td>\n",
       "      <td>1</td>\n",
       "      <td>0</td>\n",
       "      <td>3.297</td>\n",
       "      <td>6.595</td>\n",
       "      <td>low</td>\n",
       "      <td>low</td>\n",
       "    </tr>\n",
       "    <tr>\n",
       "      <th>3</th>\n",
       "      <td>0</td>\n",
       "      <td>0</td>\n",
       "      <td>4</td>\n",
       "      <td>12.633</td>\n",
       "      <td>30.876</td>\n",
       "      <td>high</td>\n",
       "      <td>high</td>\n",
       "    </tr>\n",
       "    <tr>\n",
       "      <th>4</th>\n",
       "      <td>1</td>\n",
       "      <td>0</td>\n",
       "      <td>1</td>\n",
       "      <td>2.381</td>\n",
       "      <td>14.311</td>\n",
       "      <td>medium</td>\n",
       "      <td>medium</td>\n",
       "    </tr>\n",
       "  </tbody>\n",
       "</table>\n",
       "</div>"
      ],
      "text/plain": [
       "   quarter  mode  purpose  visits_2  nights_2  Actual Predicted\n",
       "0        1     1        0     1.649     4.946     low    medium\n",
       "1        2     0        4    21.329   269.631    high      high\n",
       "2        1     1        0     3.297     6.595     low       low\n",
       "3        0     0        4    12.633    30.876    high      high\n",
       "4        1     0        1     2.381    14.311  medium    medium"
      ]
     },
     "execution_count": 19,
     "metadata": {},
     "output_type": "execute_result"
    }
   ],
   "source": [
    "comp=pd.DataFrame({'Actual':y_test, 'Predicted':y_pred})\n",
    "comp = pd.concat([X_test.reset_index(drop=True), comp.reset_index(drop=True)], axis= 1)\n",
    "comp.head()"
   ]
  }
 ],
 "metadata": {
  "kernelspec": {
   "display_name": "Python 3 (ipykernel)",
   "language": "python",
   "name": "python3"
  },
  "language_info": {
   "codemirror_mode": {
    "name": "ipython",
    "version": 3
   },
   "file_extension": ".py",
   "mimetype": "text/x-python",
   "name": "python",
   "nbconvert_exporter": "python",
   "pygments_lexer": "ipython3",
   "version": "3.9.7"
  }
 },
 "nbformat": 4,
 "nbformat_minor": 5
}
